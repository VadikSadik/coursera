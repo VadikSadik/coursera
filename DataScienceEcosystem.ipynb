{
  "metadata": {
    "kernelspec": {
      "name": "python",
      "display_name": "Python (Pyodide)",
      "language": "python"
    },
    "language_info": {
      "codemirror_mode": {
        "name": "python",
        "version": 3
      },
      "file_extension": ".py",
      "mimetype": "text/x-python",
      "name": "python",
      "nbconvert_exporter": "python",
      "pygments_lexer": "ipython3",
      "version": "3.8"
    }
  },
  "nbformat_minor": 5,
  "nbformat": 4,
  "cells": [
    {
      "id": "6ce6d047-b916-4421-b092-4efae7fa9ad7",
      "cell_type": "markdown",
      "source": "# Data Science Tools and Ecosystem",
      "metadata": {}
    },
    {
      "id": "d1f9e5fc-d355-40b8-82a8-16871a6ae496",
      "cell_type": "markdown",
      "source": "## In this notebook, Data Science Tools and Ecosystem are summarized.",
      "metadata": {}
    },
    {
      "id": "e7438ffa-7cb8-4605-83ad-ce109de47a33",
      "cell_type": "markdown",
      "source": "### **Objectives:**\n- Some of the popular languages that Data Scientists.\n- Some of the commonly used libraries used by Data Scientists.\n- Few examples of evaluating arithmetic expressions in Python.",
      "metadata": {}
    },
    {
      "id": "8febf345-4ba5-4d7c-a81f-641e2571bc74",
      "cell_type": "markdown",
      "source": "### Some of the popular languages that Data Scientists use are:\n1. Python.\n2. R.\n3. Julia.",
      "metadata": {}
    },
    {
      "id": "bfb94f4d-f26d-4a1d-8854-a7b196fca113",
      "cell_type": "markdown",
      "source": "### Some of the commonly used libraries used by Data Scientists include:\n1. NumPy.\n2. ggplot2\n3. PyTorch\n4. TensorFlow",
      "metadata": {}
    },
    {
      "id": "0fd33572-9530-4e5a-8b01-36e2303e0462",
      "cell_type": "markdown",
      "source": "|| Data Science Tools |\n| --- | --- |\n| 1 | Jupyter Notebook |\n| 2 | VS Code |\n| 3 | RStudio |\n| 4 | PyCharm |",
      "metadata": {}
    },
    {
      "id": "02543e9d-3ec9-4cbc-8177-94b6849c06ba",
      "cell_type": "markdown",
      "source": "### Below are a few examples of evaluating arithmetic expressions in Python.",
      "metadata": {}
    },
    {
      "id": "96d470cf-bceb-491a-b6e9-f8e49c54a3a1",
      "cell_type": "code",
      "source": "# This is a simple arithmetic expression to multiply then add integers.\n(3 * 4) + 5",
      "metadata": {
        "trusted": true
      },
      "outputs": [
        {
          "execution_count": 3,
          "output_type": "execute_result",
          "data": {
            "text/plain": "17"
          },
          "metadata": {}
        }
      ],
      "execution_count": 3
    },
    {
      "id": "bf3425ed-dbfe-43c1-affd-941ecf876824",
      "cell_type": "code",
      "source": "# This will convert 200 minutes to hours by dividing by 60.\n\nminutes = 200\n\ndef hours(minutes):\n    a = (minutes / 60)\n    print(round(a, 1))\n\nhours(minutes)",
      "metadata": {
        "trusted": true
      },
      "outputs": [
        {
          "name": "stdout",
          "output_type": "stream",
          "text": "3.3\n"
        }
      ],
      "execution_count": 13
    },
    {
      "id": "a977f422-54d9-4907-bdc7-d2b5ebb0b8f1",
      "cell_type": "markdown",
      "source": "## Author\nVadym",
      "metadata": {}
    },
    {
      "id": "dbd72e08-f299-4921-810b-178c0be225ee",
      "cell_type": "code",
      "source": "",
      "metadata": {
        "trusted": true
      },
      "outputs": [],
      "execution_count": null
    }
  ]
}